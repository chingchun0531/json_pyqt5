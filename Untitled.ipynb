{
 "cells": [
  {
   "cell_type": "code",
   "execution_count": 16,
   "id": "96b12c95-7a7d-4353-bbc6-a4b0a5d19ea2",
   "metadata": {},
   "outputs": [
    {
     "name": "stdout",
     "output_type": "stream",
     "text": [
      "[[1, 1, 1, 1], [1, 8]]\n"
     ]
    }
   ],
   "source": [
    "a=[]\n",
    "b=[1,1,1,1]\n",
    "c=[1,8]\n",
    "a.append(b)\n",
    "a.append(c)\n",
    "print(a)"
   ]
  },
  {
   "cell_type": "code",
   "execution_count": 36,
   "id": "f72a5e08-6142-46b6-8633-c5eff00d1b4a",
   "metadata": {},
   "outputs": [
    {
     "name": "stdout",
     "output_type": "stream",
     "text": [
      "<class 'list'> [[0.566, 0.048], [0.708, 0.117], [0.62, 0.682], [0.329, 0.583]]\n"
     ]
    }
   ],
   "source": [
    "list1='[[0.566, 0.048], [0.708, 0.117], [0.62, 0.682], [0.329, 0.583]]'\n",
    "a = eval(list1)\n",
    "print(type(a),a)\n"
   ]
  },
  {
   "cell_type": "code",
   "execution_count": 21,
   "id": "e4ff7489-109f-4936-844b-59dc6a8e0800",
   "metadata": {},
   "outputs": [
    {
     "name": "stdout",
     "output_type": "stream",
     "text": [
      "['a', 'b', 'c']\n"
     ]
    }
   ],
   "source": [
    "stra = 'a,b,c'\n",
    "str1 = stra.split(',')\n",
    "print(str1)"
   ]
  },
  {
   "cell_type": "code",
   "execution_count": null,
   "id": "2eda22bc-0a6d-4752-8923-746df4ce1ef2",
   "metadata": {},
   "outputs": [],
   "source": []
  }
 ],
 "metadata": {
  "kernelspec": {
   "display_name": "Python 3",
   "language": "python",
   "name": "python3"
  },
  "language_info": {
   "codemirror_mode": {
    "name": "ipython",
    "version": 3
   },
   "file_extension": ".py",
   "mimetype": "text/x-python",
   "name": "python",
   "nbconvert_exporter": "python",
   "pygments_lexer": "ipython3",
   "version": "3.8.8"
  }
 },
 "nbformat": 4,
 "nbformat_minor": 5
}
